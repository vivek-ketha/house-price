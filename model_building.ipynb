{
 "cells": [
  {
   "cell_type": "code",
   "execution_count": 9,
   "id": "332865b7-64f8-434a-a786-0a37dc2ce6df",
   "metadata": {
    "tags": []
   },
   "outputs": [],
   "source": [
    "# Imports\n",
    "import uuid\n",
    "import os\n",
    "import matplotlib.pyplot as plt\n",
    "import numpy as np\n",
    "import pandas as pd\n",
    "import random\n",
    "#  import seaborn as sns\n",
    "\n",
    "\n",
    "from datetime import datetime\n",
    "\n",
    "## sklearn \n",
    "from sklearn.metrics import mean_absolute_error,mean_squared_error,r2_score,mean_squared_log_error\n",
    "from sklearn.preprocessing import OrdinalEncoder, OneHotEncoder, StandardScaler\n",
    "from sklearn.impute import SimpleImputer\n",
    "from sklearn.compose import ColumnTransformer, make_column_transformer\n",
    "from sklearn.pipeline import Pipeline, make_pipeline\n",
    "from sklearn import set_config\n",
    "from sklearn.model_selection import train_test_split\n",
    "\n",
    "from sklearn.svm import SVR\n",
    "from sklearn.linear_model import LinearRegression, LassoLars, SGDRegressor, Ridge, LogisticRegression, BayesianRidge\n",
    "from sklearn.ensemble import RandomForestRegressor,GradientBoostingRegressor\n",
    "from sklearn.tree import DecisionTreeRegressor\n",
    "\n"
   ]
  },
  {
   "cell_type": "code",
   "execution_count": 7,
   "id": "88d27692-8d38-4065-86b9-98d68bd5adb7",
   "metadata": {
    "tags": []
   },
   "outputs": [
    {
     "name": "stdout",
     "output_type": "stream",
     "text": [
      "Collecting scikit-learn\n",
      "  Downloading scikit_learn-1.2.2-cp39-cp39-manylinux_2_17_x86_64.manylinux2014_x86_64.whl (9.6 MB)\n",
      "\u001b[2K     \u001b[90m━━━━━━━━━━━━━━━━━━━━━━━━━━━━━━━━━━━━━━━━\u001b[0m \u001b[32m9.6/9.6 MB\u001b[0m \u001b[31m69.7 MB/s\u001b[0m eta \u001b[36m0:00:00\u001b[0m:00:01\u001b[0m0:01\u001b[0m\n",
      "\u001b[?25hRequirement already satisfied: numpy>=1.17.3 in ./.conda/envs/default/lib/python3.9/site-packages (from scikit-learn) (1.24.3)\n",
      "Requirement already satisfied: scipy>=1.3.2 in ./.conda/envs/default/lib/python3.9/site-packages (from scikit-learn) (1.10.1)\n",
      "Collecting joblib>=1.1.1 (from scikit-learn)\n",
      "  Downloading joblib-1.2.0-py3-none-any.whl (297 kB)\n",
      "\u001b[2K     \u001b[90m━━━━━━━━━━━━━━━━━━━━━━━━━━━━━━━━━━━━━━\u001b[0m \u001b[32m298.0/298.0 kB\u001b[0m \u001b[31m54.9 MB/s\u001b[0m eta \u001b[36m0:00:00\u001b[0m\n",
      "\u001b[?25hCollecting threadpoolctl>=2.0.0 (from scikit-learn)\n",
      "  Downloading threadpoolctl-3.1.0-py3-none-any.whl (14 kB)\n",
      "Installing collected packages: threadpoolctl, joblib, scikit-learn\n",
      "Successfully installed joblib-1.2.0 scikit-learn-1.2.2 threadpoolctl-3.1.0\n",
      "Note: you may need to restart the kernel to use updated packages.\n"
     ]
    }
   ],
   "source": [
    "pip install scikit-learn"
   ]
  },
  {
   "cell_type": "code",
   "execution_count": 10,
   "id": "2f756cf0-cea3-4bf2-aa27-54f06991bf31",
   "metadata": {
    "tags": []
   },
   "outputs": [
    {
     "name": "stdout",
     "output_type": "stream",
     "text": [
      "✅ Import and Setup Arize Client Done! Now we can start using Arize!\n",
      "\u001b[38;21m  arize.utils.logging | INFO | Downloading pre-trained model 'distilbert-base-uncased'\u001b[0m\n"
     ]
    },
    {
     "data": {
      "application/vnd.jupyter.widget-view+json": {
       "model_id": "7d91832f11574d5bae6c2782cd564705",
       "version_major": 2,
       "version_minor": 0
      },
      "text/plain": [
       "Downloading (…)lve/main/config.json:   0%|          | 0.00/483 [00:00<?, ?B/s]"
      ]
     },
     "metadata": {},
     "output_type": "display_data"
    },
    {
     "data": {
      "application/vnd.jupyter.widget-view+json": {
       "model_id": "0930e5e54bfd4e5da02a760b85fafe91",
       "version_major": 2,
       "version_minor": 0
      },
      "text/plain": [
       "Downloading pytorch_model.bin:   0%|          | 0.00/268M [00:00<?, ?B/s]"
      ]
     },
     "metadata": {},
     "output_type": "display_data"
    },
    {
     "name": "stdout",
     "output_type": "stream",
     "text": [
      "\u001b[38;21m  arize.utils.logging | INFO | Downloading tokenizer for 'distilbert-base-uncased'\u001b[0m\n"
     ]
    },
    {
     "data": {
      "application/vnd.jupyter.widget-view+json": {
       "model_id": "a49b900acac043c8a5eca0cccf5fd3f0",
       "version_major": 2,
       "version_minor": 0
      },
      "text/plain": [
       "Downloading (…)okenizer_config.json:   0%|          | 0.00/28.0 [00:00<?, ?B/s]"
      ]
     },
     "metadata": {},
     "output_type": "display_data"
    },
    {
     "data": {
      "application/vnd.jupyter.widget-view+json": {
       "model_id": "749ca70d648543a9af0a0931f760af1f",
       "version_major": 2,
       "version_minor": 0
      },
      "text/plain": [
       "Downloading (…)solve/main/vocab.txt:   0%|          | 0.00/232k [00:00<?, ?B/s]"
      ]
     },
     "metadata": {},
     "output_type": "display_data"
    },
    {
     "data": {
      "application/vnd.jupyter.widget-view+json": {
       "model_id": "f726561e066f4a2dae1b4028c846d157",
       "version_major": 2,
       "version_minor": 0
      },
      "text/plain": [
       "Downloading (…)/main/tokenizer.json:   0%|          | 0.00/466k [00:00<?, ?B/s]"
      ]
     },
     "metadata": {},
     "output_type": "display_data"
    }
   ],
   "source": [
    "## Arize API and Space Keys\n",
    "SPACE_KEY  = \"\"               # CTB / Kaggle: Wide LLMs\n",
    "API_KEY    = \"\"\n",
    "\n",
    "# INSTALL \n",
    "!pip install -q arize[AutoEmbeddings]\n",
    "\n",
    "from arize.pandas.logger import Client\n",
    "from arize.utils.types import Environments, ModelTypes, EmbeddingColumnNames, Schema\n",
    "\n",
    "# Arize Client\n",
    "arize_client = Client(space_key=SPACE_KEY, api_key=API_KEY)\n",
    "\n",
    "\n",
    "model_type = ModelTypes.REGRESSION\n",
    "if SPACE_KEY == \"SPACE_KEY\" or API_KEY == \"API_KEY\":\n",
    "    raise ValueError(\"❌ NEED TO CHANGE SPACE AND/OR API_KEY\")\n",
    "else:\n",
    "    print(\"✅ Import and Setup Arize Client Done! Now we can start using Arize!\")\n",
    "\n",
    "\n",
    "\n",
    "# Create generator for embedding vector\n",
    "# `generator` creates a vector from a prompt in the LLMs response surface.\n",
    "from arize.pandas.embeddings.tabular_generators import EmbeddingGeneratorForTabularFeatures\n",
    "import arize.pandas.embeddings.base_generators\n",
    "\n",
    "# EmbeddingGeneratorForTabularFeatures.list_pretrained_models()\n",
    "\n",
    "generator = EmbeddingGeneratorForTabularFeatures(\n",
    "    model_name=\"distilbert-base-uncased\",\n",
    "    tokenizer_max_length=512,\n",
    "    #, dropout=0                                                   # Remove Drop-out\n",
    ")"
   ]
  },
  {
   "cell_type": "code",
   "execution_count": 11,
   "id": "3c6f2bf5-f4f9-4ffa-a3fa-95e127864dae",
   "metadata": {
    "tags": []
   },
   "outputs": [],
   "source": [
    "# Important Columns\n",
    "y_col = 'SalePrice'  # As it appears in the data\n",
    "id_col = 'Id'\n",
    "\n",
    "work_dir = 'house-prices-advanced-regression-techniques/'"
   ]
  },
  {
   "cell_type": "code",
   "execution_count": 12,
   "id": "ff38303c-3537-4001-b7fd-bc13159d184d",
   "metadata": {
    "tags": []
   },
   "outputs": [],
   "source": [
    "# Read Data\n",
    "train = pd.read_csv(\"train.csv\").drop('Id', axis=1)\n",
    "\n",
    "# test = Submissiion Data (e.g. Id, w/out SalePrice)\n",
    "test  = pd.read_csv(\"test.csv\")\n"
   ]
  },
  {
   "cell_type": "code",
   "execution_count": 13,
   "id": "eb2ae2bf-7549-47ca-adb0-8007e33980fa",
   "metadata": {
    "tags": []
   },
   "outputs": [],
   "source": [
    "def camel_case_split(s):\n",
    "  '''Converts Camel Case to Spaced String'''\n",
    "  idx = list(map(str.isupper, s))\n",
    "  # mark change of case\n",
    "  l = [0]\n",
    "  for (i, (x, y)) in enumerate(zip(idx, idx[1:])):\n",
    "      if x and not y:  # \"Ul\"\n",
    "          l.append(i)\n",
    "      elif not x and y:  # \"lU\"\n",
    "          l.append(i+1)\n",
    "  l.append(len(s))\n",
    "  # for \"lUl\", index of \"U\" will pop twice, have to filter that\n",
    "  return \" \".join([s[x:y] for x, y in zip(l, l[1:]) if x < y])"
   ]
  },
  {
   "cell_type": "code",
   "execution_count": 14,
   "id": "f1e0ee12-c389-4a78-9d84-b1c30d243051",
   "metadata": {
    "tags": []
   },
   "outputs": [],
   "source": [
    "# Applies camel case split to each column turning, e.g. HousePrices -> \"House Prices\"\n",
    "for col in train.columns:\n",
    "  dct = {}\n",
    "  dct[col] = camel_case_split(col)\n",
    "  train = train.rename(columns=dct)\n",
    "\n",
    "for col in test.columns: \n",
    "  dct = {}\n",
    "  dct[col] = camel_case_split(col)\n",
    "  test  = test.rename(columns=dct)\n",
    "\n",
    "# Also our identifiers\n",
    "y_col = camel_case_split(y_col) \n",
    "id_col = camel_case_split(id_col)"
   ]
  },
  {
   "cell_type": "code",
   "execution_count": 15,
   "id": "2da8028d-062f-4347-b9ef-b14e5de7fc04",
   "metadata": {
    "tags": []
   },
   "outputs": [],
   "source": [
    "# Define train_y, train_X, test_X\n",
    "\n",
    "# TRAIN\n",
    "train_y = train[ y_col ]                     # This will be split later\n",
    "train_X = train.drop(y_col , axis=1)\n",
    "\n",
    "# TEST\n",
    "test_X = test.drop(id_col, axis=1)           # Used for scoring and submission\n",
    "\n"
   ]
  },
  {
   "cell_type": "code",
   "execution_count": 16,
   "id": "9fd4c1ae-9ad5-466a-88a2-ea80070ad1bc",
   "metadata": {
    "tags": []
   },
   "outputs": [],
   "source": [
    "# Save names of columns \n",
    "tabular_columns = list(train_X.columns)  # List of train columns\n",
    "# X_cols = train.columns.drop( y_col )"
   ]
  },
  {
   "cell_type": "code",
   "execution_count": 17,
   "id": "526ff169-b767-4561-8f11-b6a85cb61d9f",
   "metadata": {
    "tags": []
   },
   "outputs": [],
   "source": [
    "# Rows dont fit in *context window* so we split the rows into 4 groups\n",
    "split_prompt_n = 4  # Number of sets of columns\n",
    "\n",
    "the_cols    = list(train_X.columns)  # list of column names \n",
    "cols_per    = {}   # Dict key: int 0-n  value: list of cols in group\n",
    "prompt_ln   = len(the_cols)//split_prompt_n # Number of col per split\n",
    "\n",
    "for i in range(split_prompt_n):\n",
    "  if i != split_prompt_n - 1: \n",
    "    cols_per[str(i)] = the_cols[ prompt_ln*(i):prompt_ln*(i + 1) ]\n",
    "  else:\n",
    "    cols_per[str(i)] = the_cols[ prompt_ln*(i): ]\n"
   ]
  },
  {
   "cell_type": "code",
   "execution_count": 18,
   "id": "6935d624-bd8d-4a5f-844e-a20fe3add89e",
   "metadata": {
    "tags": []
   },
   "outputs": [],
   "source": [
    "# Avoid potential index errors\n",
    "# See note at: https://docs.arize.com/arize/embeddings/let-arize-generate-your-embeddings\n",
    "\n",
    "# train_test = train_test.reset_index(drop=True)\n",
    "train_X  = train_X.reset_index(drop=True)\n",
    "test_X   = test_X.reset_index(drop=True)"
   ]
  },
  {
   "cell_type": "code",
   "execution_count": 19,
   "id": "296f6a7e-93a2-4dee-8f22-ec32c70e9395",
   "metadata": {
    "tags": []
   },
   "outputs": [
    {
     "name": "stdout",
     "output_type": "stream",
     "text": [
      "\u001b[38;21m  arize.utils.logging | INFO | Generating embedding vectors\u001b[0m\n"
     ]
    },
    {
     "data": {
      "application/vnd.jupyter.widget-view+json": {
       "model_id": "",
       "version_major": 2,
       "version_minor": 0
      },
      "text/plain": [
       "Map:   0%|          | 0/1460 [00:00<?, ? examples/s]"
      ]
     },
     "metadata": {},
     "output_type": "display_data"
    },
    {
     "name": "stdout",
     "output_type": "stream",
     "text": [
      "\u001b[38;21m  arize.utils.logging | INFO | Generating embedding vectors\u001b[0m\n"
     ]
    },
    {
     "data": {
      "application/vnd.jupyter.widget-view+json": {
       "model_id": "",
       "version_major": 2,
       "version_minor": 0
      },
      "text/plain": [
       "Map:   0%|          | 0/1459 [00:00<?, ? examples/s]"
      ]
     },
     "metadata": {},
     "output_type": "display_data"
    },
    {
     "name": "stdout",
     "output_type": "stream",
     "text": [
      "\u001b[38;21m  arize.utils.logging | INFO | Generating embedding vectors\u001b[0m\n"
     ]
    },
    {
     "data": {
      "application/vnd.jupyter.widget-view+json": {
       "model_id": "",
       "version_major": 2,
       "version_minor": 0
      },
      "text/plain": [
       "Map:   0%|          | 0/1460 [00:00<?, ? examples/s]"
      ]
     },
     "metadata": {},
     "output_type": "display_data"
    },
    {
     "name": "stdout",
     "output_type": "stream",
     "text": [
      "\u001b[38;21m  arize.utils.logging | INFO | Generating embedding vectors\u001b[0m\n"
     ]
    },
    {
     "data": {
      "application/vnd.jupyter.widget-view+json": {
       "model_id": "",
       "version_major": 2,
       "version_minor": 0
      },
      "text/plain": [
       "Map:   0%|          | 0/1459 [00:00<?, ? examples/s]"
      ]
     },
     "metadata": {},
     "output_type": "display_data"
    },
    {
     "name": "stdout",
     "output_type": "stream",
     "text": [
      "\u001b[38;21m  arize.utils.logging | INFO | Generating embedding vectors\u001b[0m\n"
     ]
    },
    {
     "data": {
      "application/vnd.jupyter.widget-view+json": {
       "model_id": "",
       "version_major": 2,
       "version_minor": 0
      },
      "text/plain": [
       "Map:   0%|          | 0/1460 [00:00<?, ? examples/s]"
      ]
     },
     "metadata": {},
     "output_type": "display_data"
    },
    {
     "name": "stdout",
     "output_type": "stream",
     "text": [
      "\u001b[38;21m  arize.utils.logging | INFO | Generating embedding vectors\u001b[0m\n"
     ]
    },
    {
     "data": {
      "application/vnd.jupyter.widget-view+json": {
       "model_id": "",
       "version_major": 2,
       "version_minor": 0
      },
      "text/plain": [
       "Map:   0%|          | 0/1459 [00:00<?, ? examples/s]"
      ]
     },
     "metadata": {},
     "output_type": "display_data"
    },
    {
     "name": "stdout",
     "output_type": "stream",
     "text": [
      "\u001b[38;21m  arize.utils.logging | INFO | Generating embedding vectors\u001b[0m\n"
     ]
    },
    {
     "data": {
      "application/vnd.jupyter.widget-view+json": {
       "model_id": "",
       "version_major": 2,
       "version_minor": 0
      },
      "text/plain": [
       "Map:   0%|          | 0/1460 [00:00<?, ? examples/s]"
      ]
     },
     "metadata": {},
     "output_type": "display_data"
    },
    {
     "name": "stdout",
     "output_type": "stream",
     "text": [
      "\u001b[38;21m  arize.utils.logging | INFO | Generating embedding vectors\u001b[0m\n"
     ]
    },
    {
     "data": {
      "application/vnd.jupyter.widget-view+json": {
       "model_id": "",
       "version_major": 2,
       "version_minor": 0
      },
      "text/plain": [
       "Map:   0%|          | 0/1459 [00:00<?, ? examples/s]"
      ]
     },
     "metadata": {},
     "output_type": "display_data"
    }
   ],
   "source": [
    "# Generate a set of embeddings for each split, the prompt window is 512 but \n",
    "# there are a decent number of columns so we split over 4 here\n",
    "\n",
    "tabular_vector_columns = []  # list of tabular vectors \n",
    "prompt_columns         = []  # list of prompt columns  \n",
    "\n",
    "# Iterate over each column_set\n",
    "for i in range(split_prompt_n):\n",
    "  tab_vec_col_name_i = 'tabular_vector_' + str(i)\n",
    "  prompt_col_name_i = 'prompts_' + str(i)\n",
    "  tabular_vector_columns += [tab_vec_col_name_i] \n",
    "  prompt_columns += [prompt_col_name_i]\n",
    "\n",
    "  # train_X\n",
    "  train_X[tab_vec_col_name_i ], train_X[prompt_col_name_i] = generator.generate_embeddings(\n",
    "      train_X,\n",
    "      selected_columns  = cols_per[str(i)],\n",
    "      return_prompt_col = True\n",
    "  )\n",
    " \n",
    "  # test_X \n",
    "  test_X[tab_vec_col_name_i], test_X[prompt_col_name_i] = generator.generate_embeddings(\n",
    "    test_X,\n",
    "    selected_columns  = cols_per[str(i)],\n",
    "    return_prompt_col = True\n",
    "  )\n"
   ]
  },
  {
   "cell_type": "code",
   "execution_count": 20,
   "id": "d04a642f-e319-4447-8160-cacee18b4121",
   "metadata": {
    "tags": []
   },
   "outputs": [],
   "source": [
    "def explode( col, prefix ):\n",
    "  '''explodes single column embedding vector column to DataFrame'''\n",
    "  n_cols = len( col[0] )\n",
    "  col_names = [ prefix + str(i) for i in range(n_cols) ]\n",
    "\n",
    "  return( pd.DataFrame( col.to_list(), columns=col_names) )\n"
   ]
  },
  {
   "cell_type": "code",
   "execution_count": 23,
   "id": "32f2ae1b-40f0-4653-ba87-ef87575839ff",
   "metadata": {
    "tags": []
   },
   "outputs": [],
   "source": [
    "# Creates a column per embedding dimension for modeling \n",
    "# The template is vec_N_n, where N is the tabular vector, n is each dimension \n",
    "# of the tabular vector.\n",
    "\n",
    "# Adds columns: vec_N_n to DataFrames\n",
    "\n",
    "for i in range(split_prompt_n):\n",
    "  tab_vec_name = 'tabular_vector_' + str(i)    #\n",
    "  prefix = \"vec_\" + str(i) + \"_\" \n",
    "  \n",
    "  # train_X\n",
    "  exploded = explode( train_X[ tab_vec_name], prefix )\n",
    "  train_X.loc[:, exploded.columns ] = exploded   # Idempotent replacement\n",
    "\n",
    "  # test_X\n",
    "  exploded = explode( test_X[ tab_vec_name], prefix )\n",
    "  test_X.loc[:, exploded.columns ] = exploded    # Idempotent replacement\n"
   ]
  },
  {
   "cell_type": "code",
   "execution_count": 24,
   "id": "37bc73ae-91b6-4e4a-b99f-45e1a79dfa21",
   "metadata": {
    "tags": []
   },
   "outputs": [],
   "source": [
    "# Warning: This is only done for internal evaluation; \n",
    "#   do not do this for final model submission. Train on full data\n",
    "   \n",
    "train_X_sp, eval_X_sp, train_y_sp, eval_y_sp = train_test_split(train_X, train_y, \n",
    "                                               test_size=0.2, \n",
    "                                               random_state=0)"
   ]
  },
  {
   "cell_type": "code",
   "execution_count": 26,
   "id": "48aaf613-47e5-42bd-98a7-aa4a7827a802",
   "metadata": {
    "tags": []
   },
   "outputs": [],
   "source": [
    "# Drop everything that is not an exploded-out tabular-vector columns of the form\n",
    "# vec_N_n. Mig\n",
    "\n",
    "import re\n",
    "\n",
    "def get_matching_cols(df, regex):\n",
    "  r = re.compile(regex)\n",
    "  return( list( filter( r.match, df.columns) ) )\n",
    "  \n",
    "def get_embedding_cols(df):\n",
    "  return( get_matching_cols(df, \"vec_\\d+_\\d+\") )\n",
    "\n",
    "\n",
    "embed_cols = get_embedding_cols( train_X )\n"
   ]
  },
  {
   "cell_type": "code",
   "execution_count": 27,
   "id": "fc697c01-94c5-4383-9640-606c21561dc9",
   "metadata": {
    "tags": []
   },
   "outputs": [],
   "source": [
    "# Which data is being used to fit?  train_X or train_X_sp?\n",
    "\n",
    "final = True;  # If final = `True` then no evaluation is availably                 \n",
    "\n",
    "X_cols = embed_cols \n",
    "\n",
    "if final: \n",
    "  fit_X = train_X[ X_cols ]\n",
    "  fit_y = train_y\n",
    "else: \n",
    "  fit_X = train_X_sp[ X_cols ]\n",
    "  fit_y = train_y_sp\n",
    "\n",
    "eval_X = eval_X_sp[ X_cols ]\n",
    "eval_y = eval_y_sp"
   ]
  },
  {
   "cell_type": "code",
   "execution_count": 28,
   "id": "5b7c96bf-01f2-4b18-9df0-015df065b998",
   "metadata": {
    "tags": []
   },
   "outputs": [],
   "source": [
    "# Define Evaluation metrics \n",
    "def evaluate(y_true, y_pred):\n",
    "    mae = mean_absolute_error(y_true,y_pred)\n",
    "    mse = mean_squared_error(y_true,y_pred)\n",
    "    rsquare = r2_score(y_true,y_pred)\n",
    "    rmse = mean_squared_error(y_true,y_pred,squared = False)\n",
    "    try:\n",
    "        rmsle = mean_squared_log_error(y_true,y_pred,squared = False)\n",
    "    except:\n",
    "        rmsle = np.nan\n",
    "    return mae, mse, rsquare, rmse, rmsle\n",
    "\n",
    "def evaluate_show(y_true, y_pred):\n",
    "  '''display a table of the evaluation'''\n",
    "  score = evaluate( y_true, y_pred )\n",
    "  score_df = pd.DataFrame(score).T.round(5)\n",
    "\n",
    "  score_df.columns = ['MAE','MSE','R2 Square','RMSE','RMSLE']\n",
    "  score_df.style.set_properties(**{'background-color': 'aliceblue' ,'color':'black','border-color': '#8b8c8c'})\n",
    "  print(score_df)\n",
    "  return()\n",
    " "
   ]
  },
  {
   "cell_type": "code",
   "execution_count": 32,
   "id": "4b4a2aaf-b1b6-40af-8ba9-6f37b42c9d33",
   "metadata": {
    "tags": []
   },
   "outputs": [],
   "source": [
    "# XGBoost (Est. 15m) \n",
    "import xgboost as xgb\n",
    "\n",
    "model_xgb = xgb.XGBRegressor(objective=\"reg:squarederror\"\n",
    "                            , max_depth=6\n",
    "                            , n_estimators=10000\n",
    "                            , learning_rate=0.01\n",
    "                            , colsample_bytree=0.2\n",
    "                            , min_child_weight=1.5\n",
    "                            , reg_alpha=0.75\n",
    "                            , reg_lambda=0.45\n",
    "                            , subsample=0.6\n",
    "                             ) "
   ]
  },
  {
   "cell_type": "code",
   "execution_count": null,
   "id": "24177b58-ea20-4485-b1fa-06cbdba9aa88",
   "metadata": {
    "tags": []
   },
   "outputs": [],
   "source": [
    "# Train Model\n",
    "model = model_xgb.fit(fit_X,fit_y)   # est. 15m"
   ]
  },
  {
   "cell_type": "code",
   "execution_count": null,
   "id": "1f44ddcd-6e37-44a1-9db5-2503f2ae4192",
   "metadata": {
    "tags": []
   },
   "outputs": [],
   "source": [
    "import joblib\n",
    "joblib.dump(model, 'xgboost_model.joblib')\n"
   ]
  },
  {
   "cell_type": "code",
   "execution_count": null,
   "id": "80fd1670-fcec-4359-9cb4-d016c17d21b6",
   "metadata": {
    "tags": []
   },
   "outputs": [],
   "source": []
  },
  {
   "cell_type": "code",
   "execution_count": null,
   "id": "26a30ef0-b711-4d5b-8e7c-850b9255512f",
   "metadata": {},
   "outputs": [],
   "source": []
  }
 ],
 "metadata": {
  "kernelspec": {
   "display_name": "default:Python",
   "language": "python",
   "name": "conda-env-default-py"
  },
  "language_info": {
   "codemirror_mode": {
    "name": "ipython",
    "version": 3
   },
   "file_extension": ".py",
   "mimetype": "text/x-python",
   "name": "python",
   "nbconvert_exporter": "python",
   "pygments_lexer": "ipython3",
   "version": "3.9.16"
  }
 },
 "nbformat": 4,
 "nbformat_minor": 5
}
